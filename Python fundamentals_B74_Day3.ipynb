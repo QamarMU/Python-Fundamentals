{
 "cells": [
  {
   "cell_type": "code",
   "execution_count": null,
   "id": "889b55bd",
   "metadata": {},
   "outputs": [],
   "source": [
    "continuation with string data type:"
   ]
  },
  {
   "cell_type": "code",
   "execution_count": null,
   "id": "0e263668",
   "metadata": {},
   "outputs": [],
   "source": []
  },
  {
   "cell_type": "code",
   "execution_count": 5,
   "id": "557c0d39",
   "metadata": {},
   "outputs": [],
   "source": [
    "first_name = \"bharat\"\n",
    "last_name = \"reddy\""
   ]
  },
  {
   "cell_type": "code",
   "execution_count": null,
   "id": "3bd77080",
   "metadata": {},
   "outputs": [],
   "source": []
  },
  {
   "cell_type": "code",
   "execution_count": null,
   "id": "743af45e",
   "metadata": {},
   "outputs": [],
   "source": [
    "# reg: I want to get the full name ?"
   ]
  },
  {
   "cell_type": "code",
   "execution_count": null,
   "id": "e5cc7b36",
   "metadata": {},
   "outputs": [],
   "source": []
  },
  {
   "cell_type": "code",
   "execution_count": null,
   "id": "1d32b30d",
   "metadata": {},
   "outputs": [],
   "source": [
    "Understanding the concept of f string **"
   ]
  },
  {
   "cell_type": "code",
   "execution_count": null,
   "id": "22f7fa2d",
   "metadata": {},
   "outputs": [],
   "source": [
    "# general syntax of f strings"
   ]
  },
  {
   "cell_type": "code",
   "execution_count": null,
   "id": "9537851a",
   "metadata": {},
   "outputs": [],
   "source": [
    "f\" custom words {place_holder - 1} {placeholder-2}......{place_number ----- n}"
   ]
  },
  {
   "cell_type": "code",
   "execution_count": null,
   "id": "9bd1259f",
   "metadata": {},
   "outputs": [],
   "source": []
  },
  {
   "cell_type": "code",
   "execution_count": 8,
   "id": "3d08636c",
   "metadata": {},
   "outputs": [
    {
     "ename": "SyntaxError",
     "evalue": "EOL while scanning string literal (4228964543.py, line 1)",
     "output_type": "error",
     "traceback": [
      "\u001b[0;36m  File \u001b[0;32m\"/var/folders/mk/mq9__0cx5t997t4mg7mq0lcr0000gn/T/ipykernel_55236/4228964543.py\"\u001b[0;36m, line \u001b[0;32m1\u001b[0m\n\u001b[0;31m    full_name = f\"{first_name}{last_name}\u001b[0m\n\u001b[0m                                         ^\u001b[0m\n\u001b[0;31mSyntaxError\u001b[0m\u001b[0;31m:\u001b[0m EOL while scanning string literal\n"
     ]
    }
   ],
   "source": [
    "full_name = f\"{first_name}{last_name}\n",
    "\n",
    "print(full_name)"
   ]
  },
  {
   "cell_type": "code",
   "execution_count": null,
   "id": "851fbfb0",
   "metadata": {},
   "outputs": [],
   "source": []
  },
  {
   "cell_type": "code",
   "execution_count": null,
   "id": "468654a9",
   "metadata": {},
   "outputs": [],
   "source": []
  },
  {
   "cell_type": "code",
   "execution_count": 7,
   "id": "0d677a9d",
   "metadata": {},
   "outputs": [
    {
     "ename": "SyntaxError",
     "evalue": "EOL while scanning string literal (2699160702.py, line 1)",
     "output_type": "error",
     "traceback": [
      "\u001b[0;36m  File \u001b[0;32m\"/var/folders/mk/mq9__0cx5t997t4mg7mq0lcr0000gn/T/ipykernel_55236/2699160702.py\"\u001b[0;36m, line \u001b[0;32m1\u001b[0m\n\u001b[0;31m    message = f\"keep up the good work, {full_name.title()}\u001b[0m\n\u001b[0m                                                          ^\u001b[0m\n\u001b[0;31mSyntaxError\u001b[0m\u001b[0;31m:\u001b[0m EOL while scanning string literal\n"
     ]
    }
   ],
   "source": [
    "message = f\"keep up the good work, {full_name.title()}\n",
    "\n",
    "print(message)"
   ]
  },
  {
   "cell_type": "code",
   "execution_count": null,
   "id": "246c3f9c",
   "metadata": {},
   "outputs": [],
   "source": []
  },
  {
   "cell_type": "code",
   "execution_count": null,
   "id": "d381686f",
   "metadata": {},
   "outputs": [],
   "source": [
    "Adding the whitespaces:"
   ]
  },
  {
   "cell_type": "code",
   "execution_count": null,
   "id": "9b561e41",
   "metadata": {},
   "outputs": [],
   "source": [
    "# fav_programming_lang = "
   ]
  },
  {
   "cell_type": "code",
   "execution_count": 9,
   "id": "4645d054",
   "metadata": {},
   "outputs": [
    {
     "name": "stdout",
     "output_type": "stream",
     "text": [
      "favourite_programming_language:pythonjavaC++SwiftPascalCobal\n"
     ]
    }
   ],
   "source": [
    "print(\"favourite_programming_language:pythonjavaC++SwiftPascalCobal\")"
   ]
  },
  {
   "cell_type": "code",
   "execution_count": null,
   "id": "c8efcc54",
   "metadata": {},
   "outputs": [],
   "source": [
    "\\n -------> It is called as new line delimiter"
   ]
  },
  {
   "cell_type": "code",
   "execution_count": 10,
   "id": "05ba3b09",
   "metadata": {},
   "outputs": [
    {
     "name": "stdout",
     "output_type": "stream",
     "text": [
      "favourite_programming_language:\n",
      "python\n",
      "java\n",
      "C++\n",
      "Swift\n",
      "Pascal\n",
      "Cobal\n"
     ]
    }
   ],
   "source": [
    "print(\"favourite_programming_language:\\npython\\njava\\nC++\\nSwift\\nPascal\\nCobal\")"
   ]
  },
  {
   "cell_type": "code",
   "execution_count": null,
   "id": "3e1ff0e6",
   "metadata": {},
   "outputs": [],
   "source": [
    "\\t ========> It is called as tab delimiter"
   ]
  },
  {
   "cell_type": "code",
   "execution_count": 11,
   "id": "c36c7986",
   "metadata": {},
   "outputs": [
    {
     "name": "stdout",
     "output_type": "stream",
     "text": [
      "favourite_programming_language:\n",
      "\tpython\n",
      "\tjava\n",
      "\tC++\n",
      "\tSwift\n",
      "\tPascal\n",
      "\tCobal\n"
     ]
    }
   ],
   "source": [
    "print(\"favourite_programming_language:\\n\\tpython\\n\\tjava\\n\\tC++\\n\\tSwift\\n\\tPascal\\n\\tCobal\")"
   ]
  },
  {
   "cell_type": "code",
   "execution_count": null,
   "id": "939df23e",
   "metadata": {},
   "outputs": [],
   "source": []
  },
  {
   "cell_type": "code",
   "execution_count": null,
   "id": "f8039b5d",
   "metadata": {},
   "outputs": [],
   "source": [
    "Removing the whitespaces from stings:"
   ]
  },
  {
   "cell_type": "code",
   "execution_count": 12,
   "id": "2c629a7b",
   "metadata": {},
   "outputs": [
    {
     "name": "stdout",
     "output_type": "stream",
     "text": [
      "python\n"
     ]
    }
   ],
   "source": [
    "name = 'python'\n",
    "\n",
    "print(name)"
   ]
  },
  {
   "cell_type": "code",
   "execution_count": 13,
   "id": "f28b1a4f",
   "metadata": {},
   "outputs": [
    {
     "name": "stdout",
     "output_type": "stream",
     "text": [
      "     python\n"
     ]
    }
   ],
   "source": [
    "name2 = '     python'\n",
    "\n",
    "print(name2)"
   ]
  },
  {
   "cell_type": "code",
   "execution_count": 14,
   "id": "09d71b52",
   "metadata": {},
   "outputs": [
    {
     "name": "stdout",
     "output_type": "stream",
     "text": [
      "python     \n"
     ]
    }
   ],
   "source": [
    "name3 = 'python     '\n",
    "\n",
    "print(name3)"
   ]
  },
  {
   "cell_type": "code",
   "execution_count": 18,
   "id": "adb49358",
   "metadata": {},
   "outputs": [
    {
     "data": {
      "text/plain": [
       "'python'"
      ]
     },
     "execution_count": 18,
     "metadata": {},
     "output_type": "execute_result"
    }
   ],
   "source": [
    "name2.lstrip()"
   ]
  },
  {
   "cell_type": "code",
   "execution_count": null,
   "id": "5146a327",
   "metadata": {},
   "outputs": [],
   "source": []
  },
  {
   "cell_type": "code",
   "execution_count": 17,
   "id": "a95110db",
   "metadata": {},
   "outputs": [
    {
     "data": {
      "text/plain": [
       "'python'"
      ]
     },
     "execution_count": 17,
     "metadata": {},
     "output_type": "execute_result"
    }
   ],
   "source": [
    "name3.rstrip()"
   ]
  },
  {
   "cell_type": "code",
   "execution_count": null,
   "id": "c52b7ee9",
   "metadata": {},
   "outputs": [],
   "source": [
    "name4 = '    python    '"
   ]
  },
  {
   "cell_type": "code",
   "execution_count": 20,
   "id": "4408fabd",
   "metadata": {},
   "outputs": [
    {
     "ename": "NameError",
     "evalue": "name 'name4' is not defined",
     "output_type": "error",
     "traceback": [
      "\u001b[0;31m---------------------------------------------------------------------------\u001b[0m",
      "\u001b[0;31mNameError\u001b[0m                                 Traceback (most recent call last)",
      "\u001b[0;32m/var/folders/mk/mq9__0cx5t997t4mg7mq0lcr0000gn/T/ipykernel_55236/3218245906.py\u001b[0m in \u001b[0;36m<module>\u001b[0;34m\u001b[0m\n\u001b[0;32m----> 1\u001b[0;31m \u001b[0mname4\u001b[0m\u001b[0;34m.\u001b[0m\u001b[0mstrip\u001b[0m\u001b[0;34m(\u001b[0m\u001b[0;34m)\u001b[0m\u001b[0;34m\u001b[0m\u001b[0;34m\u001b[0m\u001b[0m\n\u001b[0m",
      "\u001b[0;31mNameError\u001b[0m: name 'name4' is not defined"
     ]
    }
   ],
   "source": [
    "name4.strip()"
   ]
  },
  {
   "cell_type": "code",
   "execution_count": 21,
   "id": "3506e1ca",
   "metadata": {},
   "outputs": [
    {
     "ename": "NameError",
     "evalue": "name 'name4' is not defined",
     "output_type": "error",
     "traceback": [
      "\u001b[0;31m---------------------------------------------------------------------------\u001b[0m",
      "\u001b[0;31mNameError\u001b[0m                                 Traceback (most recent call last)",
      "\u001b[0;32m/var/folders/mk/mq9__0cx5t997t4mg7mq0lcr0000gn/T/ipykernel_55236/3132700712.py\u001b[0m in \u001b[0;36m<module>\u001b[0;34m\u001b[0m\n\u001b[0;32m----> 1\u001b[0;31m \u001b[0mname4\u001b[0m\u001b[0;34m.\u001b[0m\u001b[0mstrip\u001b[0m\u001b[0;34m(\u001b[0m\u001b[0;34m)\u001b[0m \u001b[0;31m# search + execute ........\u001b[0m\u001b[0;34m\u001b[0m\u001b[0;34m\u001b[0m\u001b[0m\n\u001b[0m",
      "\u001b[0;31mNameError\u001b[0m: name 'name4' is not defined"
     ]
    }
   ],
   "source": [
    "name4.strip() # search + execute ........"
   ]
  },
  {
   "cell_type": "code",
   "execution_count": null,
   "id": "89629f3e",
   "metadata": {},
   "outputs": [],
   "source": []
  },
  {
   "cell_type": "code",
   "execution_count": null,
   "id": "b6f560b0",
   "metadata": {},
   "outputs": [],
   "source": []
  },
  {
   "cell_type": "code",
   "execution_count": null,
   "id": "851d3b21",
   "metadata": {},
   "outputs": [],
   "source": []
  },
  {
   "cell_type": "code",
   "execution_count": null,
   "id": "50119b4f",
   "metadata": {},
   "outputs": [],
   "source": []
  },
  {
   "cell_type": "code",
   "execution_count": null,
   "id": "ea68af45",
   "metadata": {},
   "outputs": [],
   "source": []
  },
  {
   "cell_type": "code",
   "execution_count": null,
   "id": "44ee4971",
   "metadata": {},
   "outputs": [],
   "source": []
  },
  {
   "cell_type": "code",
   "execution_count": null,
   "id": "96fb4c0e",
   "metadata": {},
   "outputs": [],
   "source": []
  },
  {
   "cell_type": "code",
   "execution_count": null,
   "id": "94d1355d",
   "metadata": {},
   "outputs": [],
   "source": []
  }
 ],
 "metadata": {
  "kernelspec": {
   "display_name": "Python 3 (ipykernel)",
   "language": "python",
   "name": "python3"
  },
  "language_info": {
   "codemirror_mode": {
    "name": "ipython",
    "version": 3
   },
   "file_extension": ".py",
   "mimetype": "text/x-python",
   "name": "python",
   "nbconvert_exporter": "python",
   "pygments_lexer": "ipython3",
   "version": "3.9.13"
  }
 },
 "nbformat": 4,
 "nbformat_minor": 5
}
