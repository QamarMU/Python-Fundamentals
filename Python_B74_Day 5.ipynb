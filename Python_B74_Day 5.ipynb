{
 "cells": [
  {
   "cell_type": "code",
   "execution_count": null,
   "id": "aee38836",
   "metadata": {},
   "outputs": [],
   "source": [
    "Working with the list datatype:"
   ]
  },
  {
   "cell_type": "code",
   "execution_count": null,
   "id": "06ccbd07",
   "metadata": {},
   "outputs": [],
   "source": []
  },
  {
   "cell_type": "code",
   "execution_count": null,
   "id": "5a3766ce",
   "metadata": {},
   "outputs": [],
   "source": [
    "Organizing the list datatypes:"
   ]
  },
  {
   "cell_type": "code",
   "execution_count": null,
   "id": "760832cf",
   "metadata": {},
   "outputs": [],
   "source": []
  },
  {
   "cell_type": "code",
   "execution_count": 31,
   "id": "802e4ab9",
   "metadata": {},
   "outputs": [],
   "source": [
    "cars = ['kia','benz','maruti','honda','bmw','audi']"
   ]
  },
  {
   "cell_type": "code",
   "execution_count": 32,
   "id": "ab024b6b",
   "metadata": {},
   "outputs": [
    {
     "name": "stdout",
     "output_type": "stream",
     "text": [
      "['kia', 'benz', 'maruti', 'honda', 'bmw', 'audi']\n"
     ]
    }
   ],
   "source": [
    "print(cars)"
   ]
  },
  {
   "cell_type": "code",
   "execution_count": null,
   "id": "7133b610",
   "metadata": {},
   "outputs": [],
   "source": []
  },
  {
   "cell_type": "code",
   "execution_count": null,
   "id": "97fbea9c",
   "metadata": {},
   "outputs": [],
   "source": [
    "#req: To print the list in the alphabetical order.\n",
    "\n",
    "Two approaches:\n",
    "    1. Temporary approach ------------> sorted ------> can maintain the original order of the list.\n",
    "    2. Permanent approach ------------> sort --------> changes are applied permanently."
   ]
  },
  {
   "cell_type": "code",
   "execution_count": null,
   "id": "511410a5",
   "metadata": {},
   "outputs": [],
   "source": []
  },
  {
   "cell_type": "code",
   "execution_count": null,
   "id": "1c77bc39",
   "metadata": {},
   "outputs": [],
   "source": [
    "# Temporary approach"
   ]
  },
  {
   "cell_type": "code",
   "execution_count": 33,
   "id": "b09e889d",
   "metadata": {},
   "outputs": [
    {
     "name": "stdout",
     "output_type": "stream",
     "text": [
      "['audi', 'benz', 'bmw', 'honda', 'kia', 'maruti']\n"
     ]
    }
   ],
   "source": [
    "print(sorted(cars)) # A, B, B, H, K, M, ======> A_Z"
   ]
  },
  {
   "cell_type": "code",
   "execution_count": null,
   "id": "fce785f3",
   "metadata": {},
   "outputs": [],
   "source": [
    "# benz, bmw ---------------------> B, B =====> e, m"
   ]
  },
  {
   "cell_type": "code",
   "execution_count": 34,
   "id": "8dfdfbb9",
   "metadata": {},
   "outputs": [
    {
     "name": "stdout",
     "output_type": "stream",
     "text": [
      "['kia', 'benz', 'maruti', 'honda', 'bmw', 'audi']\n"
     ]
    }
   ],
   "source": [
    "print(cars) # this is the original order."
   ]
  },
  {
   "cell_type": "code",
   "execution_count": 35,
   "id": "5f4b8c55",
   "metadata": {},
   "outputs": [
    {
     "name": "stdout",
     "output_type": "stream",
     "text": [
      "['kia', 'benz', 'maruti', 'honda', 'bmw', 'audi']\n"
     ]
    }
   ],
   "source": [
    "print(cars)"
   ]
  },
  {
   "cell_type": "code",
   "execution_count": null,
   "id": "4cfd0ba2",
   "metadata": {},
   "outputs": [],
   "source": []
  },
  {
   "cell_type": "code",
   "execution_count": null,
   "id": "1d78a6db",
   "metadata": {},
   "outputs": [],
   "source": [
    "# Permanent approach"
   ]
  },
  {
   "cell_type": "code",
   "execution_count": 36,
   "id": "10f72a40",
   "metadata": {},
   "outputs": [],
   "source": [
    "cars.sort()"
   ]
  },
  {
   "cell_type": "code",
   "execution_count": 37,
   "id": "5f666861",
   "metadata": {},
   "outputs": [
    {
     "name": "stdout",
     "output_type": "stream",
     "text": [
      "['audi', 'benz', 'bmw', 'honda', 'kia', 'maruti']\n"
     ]
    }
   ],
   "source": [
    "print(cars)"
   ]
  },
  {
   "cell_type": "code",
   "execution_count": 38,
   "id": "6502e80d",
   "metadata": {},
   "outputs": [
    {
     "name": "stdout",
     "output_type": "stream",
     "text": [
      "['audi', 'benz', 'bmw', 'honda', 'kia', 'maruti']\n"
     ]
    }
   ],
   "source": [
    "print(cars)"
   ]
  },
  {
   "cell_type": "code",
   "execution_count": null,
   "id": "066fc88f",
   "metadata": {},
   "outputs": [],
   "source": []
  },
  {
   "cell_type": "code",
   "execution_count": null,
   "id": "c61b0dda",
   "metadata": {},
   "outputs": [],
   "source": [
    "# Interview question: what is the difference between sorted and sort method?"
   ]
  },
  {
   "cell_type": "code",
   "execution_count": null,
   "id": "378922dd",
   "metadata": {},
   "outputs": [],
   "source": []
  },
  {
   "cell_type": "code",
   "execution_count": null,
   "id": "784b1f70",
   "metadata": {},
   "outputs": [],
   "source": [
    "# To print the list in reverse order? # maruti, kia, honda, bmw, benz, and audi"
   ]
  },
  {
   "cell_type": "code",
   "execution_count": 39,
   "id": "3f0ebe99",
   "metadata": {},
   "outputs": [
    {
     "name": "stdout",
     "output_type": "stream",
     "text": [
      "['audi', 'benz', 'bmw', 'honda', 'kia', 'maruti']\n"
     ]
    }
   ],
   "source": [
    "print(cars)"
   ]
  },
  {
   "cell_type": "code",
   "execution_count": 40,
   "id": "83541210",
   "metadata": {},
   "outputs": [],
   "source": [
    "cars.reverse()"
   ]
  },
  {
   "cell_type": "code",
   "execution_count": 41,
   "id": "3a18b057",
   "metadata": {},
   "outputs": [
    {
     "name": "stdout",
     "output_type": "stream",
     "text": [
      "['maruti', 'kia', 'honda', 'bmw', 'benz', 'audi']\n"
     ]
    }
   ],
   "source": [
    "print(cars)"
   ]
  },
  {
   "cell_type": "code",
   "execution_count": null,
   "id": "ca547121",
   "metadata": {},
   "outputs": [],
   "source": []
  },
  {
   "cell_type": "code",
   "execution_count": null,
   "id": "359b9b37",
   "metadata": {},
   "outputs": [],
   "source": [
    "#requirement: To know the number of elements in the list...."
   ]
  },
  {
   "cell_type": "code",
   "execution_count": 42,
   "id": "107488bb",
   "metadata": {},
   "outputs": [
    {
     "data": {
      "text/plain": [
       "6"
      ]
     },
     "execution_count": 42,
     "metadata": {},
     "output_type": "execute_result"
    }
   ],
   "source": [
    "len(cars)"
   ]
  },
  {
   "cell_type": "code",
   "execution_count": null,
   "id": "35ebb0e5",
   "metadata": {},
   "outputs": [],
   "source": []
  },
  {
   "cell_type": "code",
   "execution_count": null,
   "id": "dbdb1cd0",
   "metadata": {},
   "outputs": [],
   "source": [
    "# Introduction to slicing: "
   ]
  },
  {
   "cell_type": "code",
   "execution_count": 16,
   "id": "8de05580",
   "metadata": {},
   "outputs": [],
   "source": [
    "students = ['trinad','akhil','ansari','david','sadiya','iqra','divya','swati']"
   ]
  },
  {
   "cell_type": "code",
   "execution_count": 17,
   "id": "ead7a60c",
   "metadata": {},
   "outputs": [
    {
     "name": "stdout",
     "output_type": "stream",
     "text": [
      "['trinad', 'akhil', 'ansari', 'david', 'sadiya', 'iqra', 'divya', 'swati']\n"
     ]
    }
   ],
   "source": [
    "print(students)"
   ]
  },
  {
   "cell_type": "code",
   "execution_count": 18,
   "id": "693481ad",
   "metadata": {},
   "outputs": [
    {
     "data": {
      "text/plain": [
       "list"
      ]
     },
     "execution_count": 18,
     "metadata": {},
     "output_type": "execute_result"
    }
   ],
   "source": [
    "type(students)"
   ]
  },
  {
   "cell_type": "code",
   "execution_count": null,
   "id": "7ae201d2",
   "metadata": {},
   "outputs": [],
   "source": [
    "# General syntax of slicing:"
   ]
  },
  {
   "cell_type": "code",
   "execution_count": null,
   "id": "a3415c1c",
   "metadata": {},
   "outputs": [],
   "source": [
    "[startvalue:stopvalue:stepcount]"
   ]
  },
  {
   "cell_type": "code",
   "execution_count": null,
   "id": "3c2ef99c",
   "metadata": {},
   "outputs": [],
   "source": [
    "Note: stop value is always exclusive -------> To include, we have to increment the index by +1"
   ]
  },
  {
   "cell_type": "code",
   "execution_count": null,
   "id": "fe7c59a3",
   "metadata": {},
   "outputs": [],
   "source": []
  },
  {
   "cell_type": "code",
   "execution_count": null,
   "id": "0641251f",
   "metadata": {},
   "outputs": [],
   "source": [
    "#req: To want trinad and akhil in the output...."
   ]
  },
  {
   "cell_type": "code",
   "execution_count": 19,
   "id": "a47e1cf5",
   "metadata": {},
   "outputs": [
    {
     "name": "stdout",
     "output_type": "stream",
     "text": [
      "['trinad']\n"
     ]
    }
   ],
   "source": [
    "print(students[0:1])"
   ]
  },
  {
   "cell_type": "code",
   "execution_count": 20,
   "id": "98b6572a",
   "metadata": {},
   "outputs": [
    {
     "name": "stdout",
     "output_type": "stream",
     "text": [
      "['trinad', 'akhil']\n"
     ]
    }
   ],
   "source": [
    "print(students[0:2])"
   ]
  },
  {
   "cell_type": "code",
   "execution_count": null,
   "id": "d71aa382",
   "metadata": {},
   "outputs": [],
   "source": [
    "#req: To want ansari and david in the output...."
   ]
  },
  {
   "cell_type": "code",
   "execution_count": 21,
   "id": "b88e2000",
   "metadata": {},
   "outputs": [
    {
     "name": "stdout",
     "output_type": "stream",
     "text": [
      "['ansari']\n"
     ]
    }
   ],
   "source": [
    "print(students[2:3])"
   ]
  },
  {
   "cell_type": "code",
   "execution_count": 22,
   "id": "7599a6c2",
   "metadata": {},
   "outputs": [
    {
     "name": "stdout",
     "output_type": "stream",
     "text": [
      "['ansari', 'david']\n"
     ]
    }
   ],
   "source": [
    "print(students[2:4])"
   ]
  },
  {
   "cell_type": "code",
   "execution_count": 24,
   "id": "dbb17f1d",
   "metadata": {},
   "outputs": [
    {
     "name": "stdout",
     "output_type": "stream",
     "text": [
      "['sadiya', 'iqra']\n"
     ]
    }
   ],
   "source": [
    "print(students[4:6])"
   ]
  },
  {
   "cell_type": "code",
   "execution_count": null,
   "id": "5f8f28f0",
   "metadata": {},
   "outputs": [],
   "source": [
    "#req: To want divya and swati in the output...."
   ]
  },
  {
   "cell_type": "code",
   "execution_count": 23,
   "id": "a8cde085",
   "metadata": {},
   "outputs": [
    {
     "name": "stdout",
     "output_type": "stream",
     "text": [
      "['divya', 'swati']\n"
     ]
    }
   ],
   "source": [
    "print(students[6:8])"
   ]
  },
  {
   "cell_type": "code",
   "execution_count": null,
   "id": "564c53ad",
   "metadata": {},
   "outputs": [],
   "source": []
  },
  {
   "cell_type": "code",
   "execution_count": 25,
   "id": "73516fda",
   "metadata": {},
   "outputs": [
    {
     "name": "stdout",
     "output_type": "stream",
     "text": [
      "['trinad', 'akhil', 'ansari', 'david', 'sadiya', 'iqra', 'divya', 'swati']\n"
     ]
    }
   ],
   "source": [
    "print(students)"
   ]
  },
  {
   "cell_type": "code",
   "execution_count": null,
   "id": "1902cf57",
   "metadata": {},
   "outputs": [],
   "source": [
    "#req: to include every alternate student"
   ]
  },
  {
   "cell_type": "code",
   "execution_count": 26,
   "id": "ed62f9b7",
   "metadata": {},
   "outputs": [
    {
     "name": "stdout",
     "output_type": "stream",
     "text": [
      "['trinad', 'ansari', 'sadiya', 'divya']\n"
     ]
    }
   ],
   "source": [
    "print(students[0:8:2])"
   ]
  },
  {
   "cell_type": "code",
   "execution_count": null,
   "id": "f1bdd88d",
   "metadata": {},
   "outputs": [],
   "source": [
    "# Step count of 3"
   ]
  },
  {
   "cell_type": "code",
   "execution_count": 27,
   "id": "fb3ebc06",
   "metadata": {},
   "outputs": [
    {
     "name": "stdout",
     "output_type": "stream",
     "text": [
      "['trinad', 'david', 'divya']\n"
     ]
    }
   ],
   "source": [
    "print(students[0:8:3])"
   ]
  },
  {
   "cell_type": "code",
   "execution_count": 28,
   "id": "8c60ff97",
   "metadata": {},
   "outputs": [
    {
     "name": "stdout",
     "output_type": "stream",
     "text": [
      "['trinad', 'akhil', 'ansari', 'david', 'sadiya', 'iqra', 'divya', 'swati']\n"
     ]
    }
   ],
   "source": [
    "print(students[0:8:1])"
   ]
  },
  {
   "cell_type": "code",
   "execution_count": 29,
   "id": "f7b401b6",
   "metadata": {},
   "outputs": [
    {
     "name": "stdout",
     "output_type": "stream",
     "text": [
      "['trinad', 'sadiya']\n"
     ]
    }
   ],
   "source": [
    "print(students[0:8:4])"
   ]
  },
  {
   "cell_type": "code",
   "execution_count": 30,
   "id": "3fb1df20",
   "metadata": {},
   "outputs": [
    {
     "name": "stdout",
     "output_type": "stream",
     "text": [
      "['trinad', 'iqra']\n"
     ]
    }
   ],
   "source": [
    "print(students[0:8:5])"
   ]
  },
  {
   "cell_type": "code",
   "execution_count": null,
   "id": "571f8407",
   "metadata": {},
   "outputs": [],
   "source": []
  }
 ],
 "metadata": {
  "kernelspec": {
   "display_name": "Python 3 (ipykernel)",
   "language": "python",
   "name": "python3"
  },
  "language_info": {
   "codemirror_mode": {
    "name": "ipython",
    "version": 3
   },
   "file_extension": ".py",
   "mimetype": "text/x-python",
   "name": "python",
   "nbconvert_exporter": "python",
   "pygments_lexer": "ipython3",
   "version": "3.9.13"
  }
 },
 "nbformat": 4,
 "nbformat_minor": 5
}
