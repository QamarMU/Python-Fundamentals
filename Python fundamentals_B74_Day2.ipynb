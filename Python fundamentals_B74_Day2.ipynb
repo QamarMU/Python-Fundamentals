{
 "cells": [
  {
   "cell_type": "code",
   "execution_count": null,
   "id": "489d425d",
   "metadata": {},
   "outputs": [],
   "source": [
    "# Rules for declaring variables in python:"
   ]
  },
  {
   "cell_type": "code",
   "execution_count": null,
   "id": "e2f1baed",
   "metadata": {},
   "outputs": [],
   "source": [
    "1. No namespaces while declaring variable"
   ]
  },
  {
   "cell_type": "code",
   "execution_count": 1,
   "id": "76bb94de",
   "metadata": {},
   "outputs": [
    {
     "ename": "SyntaxError",
     "evalue": "invalid syntax (1687658871.py, line 1)",
     "output_type": "error",
     "traceback": [
      "\u001b[0;36m  File \u001b[0;32m\"/var/folders/mk/mq9__0cx5t997t4mg7mq0lcr0000gn/T/ipykernel_27303/1687658871.py\"\u001b[0;36m, line \u001b[0;32m1\u001b[0m\n\u001b[0;31m    first name = \"Faiyaz\"\u001b[0m\n\u001b[0m          ^\u001b[0m\n\u001b[0;31mSyntaxError\u001b[0m\u001b[0;31m:\u001b[0m invalid syntax\n"
     ]
    }
   ],
   "source": [
    "first name = \"Faiyaz\""
   ]
  },
  {
   "cell_type": "code",
   "execution_count": 2,
   "id": "af26f150",
   "metadata": {},
   "outputs": [],
   "source": [
    "firstname = 'Faiyaz'"
   ]
  },
  {
   "cell_type": "code",
   "execution_count": 3,
   "id": "2e068917",
   "metadata": {},
   "outputs": [
    {
     "name": "stdout",
     "output_type": "stream",
     "text": [
      "Faiyaz\n"
     ]
    }
   ],
   "source": [
    "print(firstname)"
   ]
  },
  {
   "cell_type": "code",
   "execution_count": 4,
   "id": "7bf3cba9",
   "metadata": {},
   "outputs": [],
   "source": [
    "first_name = 'Faiyaz'"
   ]
  },
  {
   "cell_type": "code",
   "execution_count": 5,
   "id": "b25f5f5d",
   "metadata": {},
   "outputs": [
    {
     "name": "stdout",
     "output_type": "stream",
     "text": [
      "Faiyaz\n"
     ]
    }
   ],
   "source": [
    "print(first_name)"
   ]
  },
  {
   "cell_type": "code",
   "execution_count": null,
   "id": "2fc6e8b2",
   "metadata": {},
   "outputs": [],
   "source": [
    "2. A variable should not start with a number"
   ]
  },
  {
   "cell_type": "code",
   "execution_count": null,
   "id": "733088de",
   "metadata": {},
   "outputs": [],
   "source": [
    "1name = 'qamar'"
   ]
  },
  {
   "cell_type": "code",
   "execution_count": 8,
   "id": "d9229dd7",
   "metadata": {},
   "outputs": [
    {
     "ename": "SyntaxError",
     "evalue": "invalid syntax (989602786.py, line 1)",
     "output_type": "error",
     "traceback": [
      "\u001b[0;36m  File \u001b[0;32m\"/var/folders/mk/mq9__0cx5t997t4mg7mq0lcr0000gn/T/ipykernel_27303/989602786.py\"\u001b[0;36m, line \u001b[0;32m1\u001b[0m\n\u001b[0;31m    print(1name)\u001b[0m\n\u001b[0m           ^\u001b[0m\n\u001b[0;31mSyntaxError\u001b[0m\u001b[0;31m:\u001b[0m invalid syntax\n"
     ]
    }
   ],
   "source": [
    "print(1name)"
   ]
  },
  {
   "cell_type": "code",
   "execution_count": null,
   "id": "f0f4446c",
   "metadata": {},
   "outputs": [],
   "source": [
    "# The numbers can be added anywhere except at the beginning."
   ]
  },
  {
   "cell_type": "code",
   "execution_count": null,
   "id": "45111d93",
   "metadata": {},
   "outputs": [],
   "source": [
    "firstname23 = 'rahul'"
   ]
  },
  {
   "cell_type": "code",
   "execution_count": 18,
   "id": "58abaa18",
   "metadata": {
    "scrolled": true
   },
   "outputs": [
    {
     "ename": "NameError",
     "evalue": "name 'firstname23' is not defined",
     "output_type": "error",
     "traceback": [
      "\u001b[0;31m---------------------------------------------------------------------------\u001b[0m",
      "\u001b[0;31mNameError\u001b[0m                                 Traceback (most recent call last)",
      "\u001b[0;32m/var/folders/mk/mq9__0cx5t997t4mg7mq0lcr0000gn/T/ipykernel_27303/513000789.py\u001b[0m in \u001b[0;36m<module>\u001b[0;34m\u001b[0m\n\u001b[0;32m----> 1\u001b[0;31m \u001b[0mprint\u001b[0m\u001b[0;34m(\u001b[0m\u001b[0mfirstname23\u001b[0m\u001b[0;34m)\u001b[0m\u001b[0;34m\u001b[0m\u001b[0;34m\u001b[0m\u001b[0m\n\u001b[0m",
      "\u001b[0;31mNameError\u001b[0m: name 'firstname23' is not defined"
     ]
    }
   ],
   "source": [
    "print(firstname23)"
   ]
  },
  {
   "cell_type": "code",
   "execution_count": null,
   "id": "a693c798",
   "metadata": {},
   "outputs": [],
   "source": []
  },
  {
   "cell_type": "code",
   "execution_count": null,
   "id": "505b2b1a",
   "metadata": {},
   "outputs": [],
   "source": [
    "3. A variable name should not contain any special characters."
   ]
  },
  {
   "cell_type": "code",
   "execution_count": null,
   "id": "978ebb39",
   "metadata": {},
   "outputs": [],
   "source": [
    "@#%^&*"
   ]
  },
  {
   "cell_type": "code",
   "execution_count": null,
   "id": "9dfb1a10",
   "metadata": {},
   "outputs": [],
   "source": [
    "name@ = \"azhar\""
   ]
  },
  {
   "cell_type": "code",
   "execution_count": 16,
   "id": "3b3fee5a",
   "metadata": {},
   "outputs": [
    {
     "ename": "SyntaxError",
     "evalue": "invalid syntax (3535163447.py, line 1)",
     "output_type": "error",
     "traceback": [
      "\u001b[0;36m  File \u001b[0;32m\"/var/folders/mk/mq9__0cx5t997t4mg7mq0lcr0000gn/T/ipykernel_27303/3535163447.py\"\u001b[0;36m, line \u001b[0;32m1\u001b[0m\n\u001b[0;31m    print(name@)\u001b[0m\n\u001b[0m               ^\u001b[0m\n\u001b[0;31mSyntaxError\u001b[0m\u001b[0;31m:\u001b[0m invalid syntax\n"
     ]
    }
   ],
   "source": [
    "print(name@)"
   ]
  },
  {
   "cell_type": "code",
   "execution_count": null,
   "id": "cfcdcfd4",
   "metadata": {},
   "outputs": [],
   "source": [
    "# Introduction to datatypes:\n",
    "\n",
    "1. strings ==========> str\n",
    "2. lists ============> list\n",
    "3. number ===========> integers (int) and float (decimals)\n",
    "4. tuples ===========> tuple\n",
    "5. dictionaries =====> dict"
   ]
  },
  {
   "cell_type": "code",
   "execution_count": null,
   "id": "11a6cc38",
   "metadata": {},
   "outputs": [],
   "source": [
    "# Classification of datatypes:\n",
    "\n",
    "1. Mutable datatypes ----------> can be edited or altered -----------> flexible in nature.\n",
    "2. Immutable datatypes --------> cannot be edited or altered --------> fived in nature."
   ]
  },
  {
   "cell_type": "markdown",
   "id": "44629b4c",
   "metadata": {},
   "source": []
  },
  {
   "cell_type": "code",
   "execution_count": null,
   "id": "e416bbf8",
   "metadata": {},
   "outputs": [],
   "source": [
    "# Introdcution to str datatypes:\n",
    "\n",
    "Definition: A string is a series of characters declared in quotes.\n",
    "Classification : It is classified as an immutable datatype.\n",
    "    \n",
    "How to declare a string datatype:\n",
    "    Two approaches...\n",
    "1. single quote\n",
    "2. double quotes"
   ]
  },
  {
   "cell_type": "code",
   "execution_count": null,
   "id": "e6a4a7c3",
   "metadata": {},
   "outputs": [],
   "source": [
    "firstname1 = 'John' # single quote"
   ]
  },
  {
   "cell_type": "code",
   "execution_count": 23,
   "id": "d9aeacc4",
   "metadata": {},
   "outputs": [
    {
     "name": "stdout",
     "output_type": "stream",
     "text": [
      "Faiyaz\n"
     ]
    }
   ],
   "source": [
    "print(firstname)"
   ]
  },
  {
   "cell_type": "code",
   "execution_count": 24,
   "id": "40e143f7",
   "metadata": {},
   "outputs": [
    {
     "ename": "NameError",
     "evalue": "name 'firstname1' is not defined",
     "output_type": "error",
     "traceback": [
      "\u001b[0;31m---------------------------------------------------------------------------\u001b[0m",
      "\u001b[0;31mNameError\u001b[0m                                 Traceback (most recent call last)",
      "\u001b[0;32m/var/folders/mk/mq9__0cx5t997t4mg7mq0lcr0000gn/T/ipykernel_27303/4150919517.py\u001b[0m in \u001b[0;36m<module>\u001b[0;34m\u001b[0m\n\u001b[0;32m----> 1\u001b[0;31m \u001b[0mprint\u001b[0m\u001b[0;34m(\u001b[0m\u001b[0mfirstname1\u001b[0m\u001b[0;34m)\u001b[0m\u001b[0;34m\u001b[0m\u001b[0;34m\u001b[0m\u001b[0m\n\u001b[0m",
      "\u001b[0;31mNameError\u001b[0m: name 'firstname1' is not defined"
     ]
    }
   ],
   "source": [
    "print(firstname1)"
   ]
  },
  {
   "cell_type": "code",
   "execution_count": null,
   "id": "340df93b",
   "metadata": {},
   "outputs": [],
   "source": [
    "firstname2 = \"Peter\" # double quotes"
   ]
  },
  {
   "cell_type": "code",
   "execution_count": 25,
   "id": "e4846f76",
   "metadata": {},
   "outputs": [
    {
     "name": "stdout",
     "output_type": "stream",
     "text": [
      "Faiyaz\n"
     ]
    }
   ],
   "source": [
    "print(firstname)"
   ]
  },
  {
   "cell_type": "code",
   "execution_count": 26,
   "id": "d05fc5a7",
   "metadata": {},
   "outputs": [
    {
     "ename": "NameError",
     "evalue": "name 'firstname2' is not defined",
     "output_type": "error",
     "traceback": [
      "\u001b[0;31m---------------------------------------------------------------------------\u001b[0m",
      "\u001b[0;31mNameError\u001b[0m                                 Traceback (most recent call last)",
      "\u001b[0;32m/var/folders/mk/mq9__0cx5t997t4mg7mq0lcr0000gn/T/ipykernel_27303/961661970.py\u001b[0m in \u001b[0;36m<module>\u001b[0;34m\u001b[0m\n\u001b[0;32m----> 1\u001b[0;31m \u001b[0mprint\u001b[0m\u001b[0;34m(\u001b[0m\u001b[0mfirstname2\u001b[0m\u001b[0;34m)\u001b[0m\u001b[0;34m\u001b[0m\u001b[0;34m\u001b[0m\u001b[0m\n\u001b[0m",
      "\u001b[0;31mNameError\u001b[0m: name 'firstname2' is not defined"
     ]
    }
   ],
   "source": [
    "print(firstname2)"
   ]
  },
  {
   "cell_type": "code",
   "execution_count": null,
   "id": "3f46395e",
   "metadata": {},
   "outputs": [],
   "source": []
  },
  {
   "cell_type": "code",
   "execution_count": null,
   "id": "214e59f2",
   "metadata": {},
   "outputs": [],
   "source": [
    "# Introduction to string methods:\n",
    "\n",
    "Methods are nothing but builtin programs that are availble in python to use diurectly."
   ]
  },
  {
   "cell_type": "code",
   "execution_count": 20,
   "id": "dd38379d",
   "metadata": {},
   "outputs": [
    {
     "data": {
      "text/plain": [
       "str"
      ]
     },
     "execution_count": 20,
     "metadata": {},
     "output_type": "execute_result"
    }
   ],
   "source": [
    "type(firstname)"
   ]
  },
  {
   "cell_type": "code",
   "execution_count": 27,
   "id": "05cf90f8",
   "metadata": {},
   "outputs": [
    {
     "ename": "NameError",
     "evalue": "name 'firstname1' is not defined",
     "output_type": "error",
     "traceback": [
      "\u001b[0;31m---------------------------------------------------------------------------\u001b[0m",
      "\u001b[0;31mNameError\u001b[0m                                 Traceback (most recent call last)",
      "\u001b[0;32m/var/folders/mk/mq9__0cx5t997t4mg7mq0lcr0000gn/T/ipykernel_27303/3494779047.py\u001b[0m in \u001b[0;36m<module>\u001b[0;34m\u001b[0m\n\u001b[0;32m----> 1\u001b[0;31m \u001b[0mtype\u001b[0m\u001b[0;34m(\u001b[0m\u001b[0mfirstname1\u001b[0m\u001b[0;34m)\u001b[0m\u001b[0;34m\u001b[0m\u001b[0;34m\u001b[0m\u001b[0m\n\u001b[0m",
      "\u001b[0;31mNameError\u001b[0m: name 'firstname1' is not defined"
     ]
    }
   ],
   "source": [
    "type(firstname1)"
   ]
  },
  {
   "cell_type": "code",
   "execution_count": 28,
   "id": "60be1320",
   "metadata": {},
   "outputs": [
    {
     "ename": "NameError",
     "evalue": "name 'firstname2' is not defined",
     "output_type": "error",
     "traceback": [
      "\u001b[0;31m---------------------------------------------------------------------------\u001b[0m",
      "\u001b[0;31mNameError\u001b[0m                                 Traceback (most recent call last)",
      "\u001b[0;32m/var/folders/mk/mq9__0cx5t997t4mg7mq0lcr0000gn/T/ipykernel_27303/285754301.py\u001b[0m in \u001b[0;36m<module>\u001b[0;34m\u001b[0m\n\u001b[0;32m----> 1\u001b[0;31m \u001b[0mtype\u001b[0m\u001b[0;34m(\u001b[0m\u001b[0mfirstname2\u001b[0m\u001b[0;34m)\u001b[0m\u001b[0;34m\u001b[0m\u001b[0;34m\u001b[0m\u001b[0m\n\u001b[0m",
      "\u001b[0;31mNameError\u001b[0m: name 'firstname2' is not defined"
     ]
    }
   ],
   "source": [
    "type(firstname2)"
   ]
  },
  {
   "cell_type": "code",
   "execution_count": null,
   "id": "3a575da2",
   "metadata": {},
   "outputs": [],
   "source": [
    "fullname = \"qamar zia\""
   ]
  },
  {
   "cell_type": "code",
   "execution_count": 29,
   "id": "6409b224",
   "metadata": {},
   "outputs": [
    {
     "ename": "NameError",
     "evalue": "name 'fullname' is not defined",
     "output_type": "error",
     "traceback": [
      "\u001b[0;31m---------------------------------------------------------------------------\u001b[0m",
      "\u001b[0;31mNameError\u001b[0m                                 Traceback (most recent call last)",
      "\u001b[0;32m/var/folders/mk/mq9__0cx5t997t4mg7mq0lcr0000gn/T/ipykernel_27303/2598747401.py\u001b[0m in \u001b[0;36m<module>\u001b[0;34m\u001b[0m\n\u001b[0;32m----> 1\u001b[0;31m \u001b[0mprint\u001b[0m\u001b[0;34m(\u001b[0m\u001b[0mfullname\u001b[0m\u001b[0;34m)\u001b[0m\u001b[0;34m\u001b[0m\u001b[0;34m\u001b[0m\u001b[0m\n\u001b[0m",
      "\u001b[0;31mNameError\u001b[0m: name 'fullname' is not defined"
     ]
    }
   ],
   "source": [
    "print(fullname)"
   ]
  },
  {
   "cell_type": "code",
   "execution_count": null,
   "id": "eb85b8cd",
   "metadata": {},
   "outputs": [],
   "source": [
    "# reg: to get name in the right format."
   ]
  },
  {
   "cell_type": "code",
   "execution_count": 31,
   "id": "0c5738cc",
   "metadata": {},
   "outputs": [
    {
     "name": "stdout",
     "output_type": "stream",
     "text": [
      "Faiyaz\n"
     ]
    }
   ],
   "source": [
    "print(firstname.title())"
   ]
  },
  {
   "cell_type": "code",
   "execution_count": null,
   "id": "104f2ec0",
   "metadata": {},
   "outputs": [],
   "source": [
    "# reg: to get name in the capital letters."
   ]
  },
  {
   "cell_type": "code",
   "execution_count": 32,
   "id": "d7e32b35",
   "metadata": {},
   "outputs": [
    {
     "name": "stdout",
     "output_type": "stream",
     "text": [
      "FAIYAZ\n"
     ]
    }
   ],
   "source": [
    "print(firstname.upper())"
   ]
  },
  {
   "cell_type": "code",
   "execution_count": null,
   "id": "85abc48e",
   "metadata": {},
   "outputs": [],
   "source": [
    "# reg: to get name in the lower letters."
   ]
  },
  {
   "cell_type": "code",
   "execution_count": 33,
   "id": "5d8f0a24",
   "metadata": {},
   "outputs": [
    {
     "name": "stdout",
     "output_type": "stream",
     "text": [
      "faiyaz\n"
     ]
    }
   ],
   "source": [
    "print(firstname.lower())"
   ]
  },
  {
   "cell_type": "code",
   "execution_count": null,
   "id": "bdd9fc90",
   "metadata": {},
   "outputs": [],
   "source": []
  }
 ],
 "metadata": {
  "kernelspec": {
   "display_name": "Python 3 (ipykernel)",
   "language": "python",
   "name": "python3"
  },
  "language_info": {
   "codemirror_mode": {
    "name": "ipython",
    "version": 3
   },
   "file_extension": ".py",
   "mimetype": "text/x-python",
   "name": "python",
   "nbconvert_exporter": "python",
   "pygments_lexer": "ipython3",
   "version": "3.9.13"
  }
 },
 "nbformat": 4,
 "nbformat_minor": 5
}
